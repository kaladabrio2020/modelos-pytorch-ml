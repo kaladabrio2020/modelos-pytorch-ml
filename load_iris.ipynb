{
 "cells": [
  {
   "cell_type": "code",
   "execution_count": 2,
   "metadata": {},
   "outputs": [],
   "source": [
    "from sklearn.preprocessing import StandardScaler\n",
    "from sklearn.datasets      import load_breast_cancer\n",
    "from sklearn.model_selection import train_test_split\n",
    "import numpy as np"
   ]
  },
  {
   "cell_type": "code",
   "execution_count": 3,
   "metadata": {},
   "outputs": [],
   "source": [
    "from   torch import nn\n",
    "import torch \n",
    "from   torch.nn import functional as f\n",
    "from  torch.utils.data import TensorDataset, DataLoader"
   ]
  },
  {
   "cell_type": "code",
   "execution_count": 4,
   "metadata": {},
   "outputs": [],
   "source": [
    "from sklearn.metrics import log_loss, classification_report, accuracy_score"
   ]
  },
  {
   "cell_type": "code",
   "execution_count": 36,
   "metadata": {},
   "outputs": [],
   "source": [
    "X, y = load_breast_cancer(return_X_y=True)"
   ]
  },
  {
   "cell_type": "code",
   "execution_count": 37,
   "metadata": {},
   "outputs": [
    {
     "data": {
      "text/plain": [
       "array([0, 1])"
      ]
     },
     "execution_count": 37,
     "metadata": {},
     "output_type": "execute_result"
    }
   ],
   "source": [
    "np.unique(y)"
   ]
  },
  {
   "cell_type": "code",
   "execution_count": 40,
   "metadata": {},
   "outputs": [],
   "source": [
    "X = StandardScaler().fit_transform(X)"
   ]
  },
  {
   "cell_type": "code",
   "execution_count": 41,
   "metadata": {},
   "outputs": [
    {
     "data": {
      "text/plain": [
       "(569, 30)"
      ]
     },
     "execution_count": 41,
     "metadata": {},
     "output_type": "execute_result"
    }
   ],
   "source": [
    "X.shape"
   ]
  },
  {
   "cell_type": "code",
   "execution_count": 42,
   "metadata": {},
   "outputs": [],
   "source": [
    "class Model(nn.Module):\n",
    "    def __init__(self, *args, **kwargs) -> None:\n",
    "        super(Model, self).__init__(*args, **kwargs)\n",
    "        self.input_  = nn.Linear(in_features=30, out_features=30)\n",
    "        \n",
    "        self.hidden_1 = nn.Linear(in_features=30, out_features=15)\n",
    "        self.hidden_2 = nn.Linear(in_features=15, out_features=6)\n",
    "        self.hidden_3 = nn.Linear(in_features=6, out_features=3)\n",
    "\n",
    "        self.output_ = nn.Linear(in_features=3, out_features=1)\n",
    "    \n",
    "\n",
    "    def forward(self, x):\n",
    "        x = f.relu( self.input_(x)  )\n",
    "        x = f.relu( self.hidden_1(x) )\n",
    "        x = f.relu( self.hidden_2(x) )\n",
    "        x = f.relu( self.hidden_3(x) )\n",
    "        x = f.relu( self.output_(x) )\n",
    "        return x"
   ]
  },
  {
   "cell_type": "code",
   "execution_count": 43,
   "metadata": {},
   "outputs": [
    {
     "data": {
      "text/plain": [
       "Model(\n",
       "  (input_): Linear(in_features=30, out_features=30, bias=True)\n",
       "  (hidden_1): Linear(in_features=30, out_features=15, bias=True)\n",
       "  (hidden_2): Linear(in_features=15, out_features=6, bias=True)\n",
       "  (hidden_3): Linear(in_features=6, out_features=3, bias=True)\n",
       "  (output_): Linear(in_features=3, out_features=1, bias=True)\n",
       ")"
      ]
     },
     "execution_count": 43,
     "metadata": {},
     "output_type": "execute_result"
    }
   ],
   "source": [
    "model = Model()\n",
    "model"
   ]
  },
  {
   "cell_type": "code",
   "execution_count": 44,
   "metadata": {},
   "outputs": [],
   "source": [
    "X = torch.tensor(data=X, dtype=torch.float32, requires_grad=True)\n",
    "y = torch.tensor(data=y, dtype=torch.float32, requires_grad=True).reshape(-1, 1)"
   ]
  },
  {
   "cell_type": "code",
   "execution_count": 45,
   "metadata": {},
   "outputs": [],
   "source": [
    "data = TensorDataset(X, y)"
   ]
  },
  {
   "cell_type": "code",
   "execution_count": 46,
   "metadata": {},
   "outputs": [
    {
     "data": {
      "text/plain": [
       "17.78125"
      ]
     },
     "execution_count": 46,
     "metadata": {},
     "output_type": "execute_result"
    }
   ],
   "source": [
    "train = DataLoader(\n",
    "    dataset=data, batch_size=32, shuffle=True\n",
    ")\n",
    "len(X)/32"
   ]
  },
  {
   "cell_type": "code",
   "execution_count": 51,
   "metadata": {},
   "outputs": [],
   "source": [
    "loss  = nn.CrossEntropyLoss()\n",
    "optim = torch.optim.Adam(\n",
    "    params = model.parameters(), lr=0.01\n",
    ")"
   ]
  },
  {
   "cell_type": "code",
   "execution_count": 56,
   "metadata": {},
   "outputs": [
    {
     "name": "stdout",
     "output_type": "stream",
     "text": [
      "tensor(0.4000)\n",
      "tensor(0.3200)\n",
      "tensor(0.4000)\n",
      "tensor(0.5200)\n",
      "tensor(0.3600)\n",
      "tensor(0.3600)\n",
      "tensor(0.3600)\n",
      "tensor(0.4400)\n",
      "tensor(0.4000)\n",
      "tensor(0.2800)\n",
      "tensor(0.4000)\n",
      "tensor(0.4800)\n",
      "tensor(0.2000)\n",
      "tensor(0.3600)\n",
      "tensor(0.5200)\n",
      "tensor(0.3600)\n",
      "tensor(0.3200)\n",
      "tensor(0.2800)\n",
      "tensor(0.2800)\n",
      "tensor(0.3600)\n",
      "tensor(0.4400)\n",
      "tensor(0.2800)\n",
      "tensor(0.2800)\n",
      "tensor(0.4400)\n",
      "tensor(0.2400)\n",
      "tensor(0.4000)\n",
      "tensor(0.3600)\n",
      "tensor(0.2400)\n",
      "tensor(0.2800)\n",
      "tensor(0.4400)\n",
      "tensor(0.4800)\n",
      "tensor(0.3600)\n",
      "tensor(0.3200)\n",
      "tensor(0.4000)\n",
      "tensor(0.4400)\n",
      "tensor(0.3600)\n",
      "tensor(0.3600)\n",
      "tensor(0.4000)\n",
      "tensor(0.4800)\n",
      "tensor(0.4000)\n",
      "tensor(0.2000)\n",
      "tensor(0.4000)\n",
      "tensor(0.4400)\n",
      "tensor(0.4800)\n",
      "tensor(0.4800)\n",
      "tensor(0.5200)\n",
      "tensor(0.1600)\n",
      "tensor(0.2800)\n",
      "tensor(0.4400)\n",
      "tensor(0.2800)\n",
      "tensor(0.2000)\n",
      "tensor(0.3200)\n",
      "tensor(0.4000)\n",
      "tensor(0.4400)\n",
      "tensor(0.3600)\n",
      "tensor(0.4000)\n",
      "tensor(0.3200)\n",
      "tensor(0.4400)\n",
      "tensor(0.2800)\n",
      "tensor(0.3600)\n",
      "tensor(0.5600)\n",
      "tensor(0.3600)\n",
      "tensor(0.5600)\n",
      "tensor(0.3200)\n",
      "tensor(0.2800)\n",
      "tensor(0.2800)\n",
      "tensor(0.4400)\n",
      "tensor(0.3600)\n",
      "tensor(0.4400)\n",
      "tensor(0.5600)\n",
      "tensor(0.4000)\n",
      "tensor(0.2800)\n",
      "tensor(0.4000)\n",
      "tensor(0.5200)\n",
      "tensor(0.3600)\n",
      "tensor(0.4400)\n",
      "tensor(0.2400)\n",
      "tensor(0.4400)\n",
      "tensor(0.6000)\n",
      "tensor(0.3600)\n",
      "tensor(0.3600)\n",
      "tensor(0.2000)\n",
      "tensor(0.2800)\n",
      "tensor(0.5200)\n",
      "tensor(0.4000)\n",
      "tensor(0.3200)\n",
      "tensor(0.3200)\n",
      "tensor(0.4400)\n",
      "tensor(0.2800)\n",
      "tensor(0.5200)\n",
      "tensor(0.3200)\n",
      "tensor(0.3200)\n",
      "tensor(0.3200)\n",
      "tensor(0.4000)\n",
      "tensor(0.3600)\n",
      "tensor(0.4800)\n",
      "tensor(0.5200)\n",
      "tensor(0.2800)\n",
      "tensor(0.4400)\n",
      "tensor(0.4000)\n"
     ]
    }
   ],
   "source": [
    "for epoch in range(100):\n",
    "    for xtrain, ytrain in train:\n",
    "\n",
    "        pred = model(xtrain)\n",
    "        loss_r = loss(ytrain, pred.round())\n",
    "        \n",
    "        loss_r.backward()        \n",
    "        optim.step()\n",
    "        optim.zero_grad()\n",
    "\n",
    "\n",
    "   \n",
    "    print((pred.round()==ytrain).sum()/len(ytrain))"
   ]
  },
  {
   "cell_type": "code",
   "execution_count": 16,
   "metadata": {},
   "outputs": [],
   "source": [
    "pred = model(X)"
   ]
  },
  {
   "cell_type": "code",
   "execution_count": 17,
   "metadata": {},
   "outputs": [
    {
     "name": "stdout",
     "output_type": "stream",
     "text": [
      "tensor(0.3726)\n"
     ]
    }
   ],
   "source": [
    "print((pred.round()==y).float().mean())"
   ]
  }
 ],
 "metadata": {
  "kernelspec": {
   "display_name": "venvGlobal",
   "language": "python",
   "name": "python3"
  },
  "language_info": {
   "codemirror_mode": {
    "name": "ipython",
    "version": 3
   },
   "file_extension": ".py",
   "mimetype": "text/x-python",
   "name": "python",
   "nbconvert_exporter": "python",
   "pygments_lexer": "ipython3",
   "version": "3.11.9"
  }
 },
 "nbformat": 4,
 "nbformat_minor": 2
}
