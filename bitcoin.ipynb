{
 "cells": [
  {
   "cell_type": "code",
   "execution_count": 1,
   "metadata": {},
   "outputs": [],
   "source": [
    "import pandas as pd\n",
    "import torch\n",
    "from sklearn.preprocessing import StandardScaler\n",
    "from sklearn.metrics import r2_score\n",
    "from   torch import nn\n",
    "from   torch.nn import functional as F\n",
    "from   torch.utils.data import TensorDataset, DataLoader"
   ]
  },
  {
   "cell_type": "code",
   "execution_count": 2,
   "metadata": {},
   "outputs": [
    {
     "data": {
      "text/html": [
       "<div>\n",
       "<style scoped>\n",
       "    .dataframe tbody tr th:only-of-type {\n",
       "        vertical-align: middle;\n",
       "    }\n",
       "\n",
       "    .dataframe tbody tr th {\n",
       "        vertical-align: top;\n",
       "    }\n",
       "\n",
       "    .dataframe thead th {\n",
       "        text-align: right;\n",
       "    }\n",
       "</style>\n",
       "<table border=\"1\" class=\"dataframe\">\n",
       "  <thead>\n",
       "    <tr style=\"text-align: right;\">\n",
       "      <th></th>\n",
       "      <th>SNo</th>\n",
       "      <th>Name</th>\n",
       "      <th>Symbol</th>\n",
       "      <th>Date</th>\n",
       "      <th>High</th>\n",
       "      <th>Low</th>\n",
       "      <th>Open</th>\n",
       "      <th>Close</th>\n",
       "      <th>Volume</th>\n",
       "      <th>Marketcap</th>\n",
       "    </tr>\n",
       "  </thead>\n",
       "  <tbody>\n",
       "    <tr>\n",
       "      <th>0</th>\n",
       "      <td>1</td>\n",
       "      <td>Bitcoin</td>\n",
       "      <td>BTC</td>\n",
       "      <td>2013-04-29 23:59:59</td>\n",
       "      <td>147.488007</td>\n",
       "      <td>134.000000</td>\n",
       "      <td>134.444000</td>\n",
       "      <td>144.539993</td>\n",
       "      <td>0.0</td>\n",
       "      <td>1.603769e+09</td>\n",
       "    </tr>\n",
       "    <tr>\n",
       "      <th>1</th>\n",
       "      <td>2</td>\n",
       "      <td>Bitcoin</td>\n",
       "      <td>BTC</td>\n",
       "      <td>2013-04-30 23:59:59</td>\n",
       "      <td>146.929993</td>\n",
       "      <td>134.050003</td>\n",
       "      <td>144.000000</td>\n",
       "      <td>139.000000</td>\n",
       "      <td>0.0</td>\n",
       "      <td>1.542813e+09</td>\n",
       "    </tr>\n",
       "    <tr>\n",
       "      <th>2</th>\n",
       "      <td>3</td>\n",
       "      <td>Bitcoin</td>\n",
       "      <td>BTC</td>\n",
       "      <td>2013-05-01 23:59:59</td>\n",
       "      <td>139.889999</td>\n",
       "      <td>107.720001</td>\n",
       "      <td>139.000000</td>\n",
       "      <td>116.989998</td>\n",
       "      <td>0.0</td>\n",
       "      <td>1.298955e+09</td>\n",
       "    </tr>\n",
       "    <tr>\n",
       "      <th>3</th>\n",
       "      <td>4</td>\n",
       "      <td>Bitcoin</td>\n",
       "      <td>BTC</td>\n",
       "      <td>2013-05-02 23:59:59</td>\n",
       "      <td>125.599998</td>\n",
       "      <td>92.281898</td>\n",
       "      <td>116.379997</td>\n",
       "      <td>105.209999</td>\n",
       "      <td>0.0</td>\n",
       "      <td>1.168517e+09</td>\n",
       "    </tr>\n",
       "    <tr>\n",
       "      <th>4</th>\n",
       "      <td>5</td>\n",
       "      <td>Bitcoin</td>\n",
       "      <td>BTC</td>\n",
       "      <td>2013-05-03 23:59:59</td>\n",
       "      <td>108.127998</td>\n",
       "      <td>79.099998</td>\n",
       "      <td>106.250000</td>\n",
       "      <td>97.750000</td>\n",
       "      <td>0.0</td>\n",
       "      <td>1.085995e+09</td>\n",
       "    </tr>\n",
       "  </tbody>\n",
       "</table>\n",
       "</div>"
      ],
      "text/plain": [
       "   SNo     Name Symbol                 Date        High         Low  \\\n",
       "0    1  Bitcoin    BTC  2013-04-29 23:59:59  147.488007  134.000000   \n",
       "1    2  Bitcoin    BTC  2013-04-30 23:59:59  146.929993  134.050003   \n",
       "2    3  Bitcoin    BTC  2013-05-01 23:59:59  139.889999  107.720001   \n",
       "3    4  Bitcoin    BTC  2013-05-02 23:59:59  125.599998   92.281898   \n",
       "4    5  Bitcoin    BTC  2013-05-03 23:59:59  108.127998   79.099998   \n",
       "\n",
       "         Open       Close  Volume     Marketcap  \n",
       "0  134.444000  144.539993     0.0  1.603769e+09  \n",
       "1  144.000000  139.000000     0.0  1.542813e+09  \n",
       "2  139.000000  116.989998     0.0  1.298955e+09  \n",
       "3  116.379997  105.209999     0.0  1.168517e+09  \n",
       "4  106.250000   97.750000     0.0  1.085995e+09  "
      ]
     },
     "execution_count": 2,
     "metadata": {},
     "output_type": "execute_result"
    }
   ],
   "source": [
    "data = pd.read_csv(r'dataset/coin_Bitcoin.csv')\n",
    "data.head()"
   ]
  },
  {
   "cell_type": "code",
   "execution_count": 3,
   "metadata": {},
   "outputs": [
    {
     "data": {
      "text/plain": [
       "SNo          0.664713\n",
       "High         0.999094\n",
       "Low          0.999072\n",
       "Open         0.998382\n",
       "Close        0.999709\n",
       "Volume       0.809156\n",
       "Marketcap    1.000000\n",
       "dtype: float64"
      ]
     },
     "execution_count": 3,
     "metadata": {},
     "output_type": "execute_result"
    }
   ],
   "source": [
    "data.select_dtypes(exclude=object).corrwith(data['Marketcap'])"
   ]
  },
  {
   "cell_type": "code",
   "execution_count": 4,
   "metadata": {},
   "outputs": [],
   "source": [
    "class Model(torch.nn.Module):\n",
    "    def __init__(self):\n",
    "        super(Model, self).__init__()\n",
    "        self.input_   = nn.Linear(in_features=6, out_features=50)\n",
    "        self.hidden_1 = nn.Linear(in_features=50, out_features=25)\n",
    "        self.hidden_2 = nn.Linear(in_features=25, out_features=15)\n",
    "        self.hidden_3 = nn.Linear(in_features=15, out_features=8)\n",
    "        self.output_  = nn.Linear(in_features=8, out_features=1)\n",
    "\n",
    "        self._init_weights(self.modules)\n",
    "    \n",
    "    def forward(self, x):\n",
    "        x = F.relu(self.input_(x))\n",
    "        x = F.relu(self.hidden_1(x))\n",
    "        x = F.relu(self.hidden_2(x))\n",
    "        x = F.relu(self.hidden_3(x))\n",
    "        x = self.output_(x)\n",
    "        return x\n",
    "    \n",
    "\n",
    "    def _init_weights(self, module):\n",
    "        if isinstance(module, nn.Linear):\n",
    "            nn.init.kaiming_normal_(module.weight, nonlinearity='elu')\n",
    "            if module.bias is not None:\n",
    "                module.bias.data.zero_()"
   ]
  },
  {
   "cell_type": "code",
   "execution_count": 5,
   "metadata": {},
   "outputs": [
    {
     "data": {
      "text/plain": [
       "<bound method Module.parameters of Model(\n",
       "  (input_): Linear(in_features=6, out_features=50, bias=True)\n",
       "  (hidden_1): Linear(in_features=50, out_features=25, bias=True)\n",
       "  (hidden_2): Linear(in_features=25, out_features=15, bias=True)\n",
       "  (hidden_3): Linear(in_features=15, out_features=8, bias=True)\n",
       "  (output_): Linear(in_features=8, out_features=1, bias=True)\n",
       ")>"
      ]
     },
     "execution_count": 5,
     "metadata": {},
     "output_type": "execute_result"
    }
   ],
   "source": [
    "model = Model()\n",
    "model.parameters"
   ]
  },
  {
   "cell_type": "code",
   "execution_count": 6,
   "metadata": {},
   "outputs": [],
   "source": [
    "X = data.drop(columns=['Marketcap','Name','Symbol','Date']).values\n",
    "y = data['Marketcap'].values"
   ]
  },
  {
   "cell_type": "code",
   "execution_count": 7,
   "metadata": {},
   "outputs": [],
   "source": [
    "X = StandardScaler().fit_transform(X)"
   ]
  },
  {
   "cell_type": "code",
   "execution_count": 8,
   "metadata": {},
   "outputs": [],
   "source": [
    "X = torch.tensor(X, dtype=torch.float32)\n",
    "y = torch.log1p(torch.tensor(y, dtype=torch.float32))"
   ]
  },
  {
   "cell_type": "code",
   "execution_count": 9,
   "metadata": {},
   "outputs": [
    {
     "data": {
      "text/plain": [
       "torch.Size([2991, 6])"
      ]
     },
     "execution_count": 9,
     "metadata": {},
     "output_type": "execute_result"
    }
   ],
   "source": [
    "X.shape"
   ]
  },
  {
   "cell_type": "code",
   "execution_count": 10,
   "metadata": {},
   "outputs": [],
   "source": [
    "tensor =  TensorDataset(X, y)"
   ]
  },
  {
   "cell_type": "code",
   "execution_count": 11,
   "metadata": {},
   "outputs": [
    {
     "data": {
      "text/plain": [
       "(tensor([-1.7315, -0.5795, -0.5845, -0.5817, -0.5813, -0.5775]),\n",
       " tensor(21.1956))"
      ]
     },
     "execution_count": 11,
     "metadata": {},
     "output_type": "execute_result"
    }
   ],
   "source": [
    "tensor[0]"
   ]
  },
  {
   "cell_type": "code",
   "execution_count": 12,
   "metadata": {},
   "outputs": [],
   "source": [
    "train = DataLoader(dataset=tensor, batch_size=20, shuffle=True, drop_last=True)"
   ]
  },
  {
   "cell_type": "code",
   "execution_count": 13,
   "metadata": {},
   "outputs": [],
   "source": [
    "loss = nn.MSELoss()"
   ]
  },
  {
   "cell_type": "code",
   "execution_count": 14,
   "metadata": {},
   "outputs": [],
   "source": [
    "optimizer = torch.optim.SGD(\n",
    "    params= model.parameters(), momentum=0.99, nesterov=True\n",
    "    )"
   ]
  },
  {
   "cell_type": "code",
   "execution_count": 15,
   "metadata": {},
   "outputs": [
    {
     "name": "stdout",
     "output_type": "stream",
     "text": [
      "epoch 0 ------- loss 6.307467937469482\n",
      "epoch 1 ------- loss 2.5705037117004395\n",
      "epoch 2 ------- loss 3.05842661857605\n",
      "epoch 3 ------- loss 1.0619616508483887\n",
      "epoch 4 ------- loss 0.6717609763145447\n",
      "epoch 5 ------- loss 0.4898086190223694\n",
      "epoch 6 ------- loss 1.154835820198059\n",
      "epoch 7 ------- loss 0.41202640533447266\n",
      "epoch 8 ------- loss 0.6342685222625732\n",
      "epoch 9 ------- loss 1.0455719232559204\n",
      "epoch 10 ------- loss 0.934607982635498\n",
      "epoch 11 ------- loss 0.5893527865409851\n",
      "epoch 12 ------- loss 0.40977582335472107\n",
      "epoch 13 ------- loss 1.4815428256988525\n",
      "epoch 14 ------- loss 0.6045101881027222\n",
      "epoch 15 ------- loss 0.5758377313613892\n",
      "epoch 16 ------- loss 1.0614264011383057\n",
      "epoch 17 ------- loss 0.6474952101707458\n",
      "epoch 18 ------- loss 0.5557147264480591\n",
      "epoch 19 ------- loss 0.5202887058258057\n",
      "epoch 20 ------- loss 0.22874435782432556\n",
      "epoch 21 ------- loss 1.5485475063323975\n",
      "epoch 22 ------- loss 0.624991774559021\n",
      "epoch 23 ------- loss 0.6675430536270142\n",
      "epoch 24 ------- loss 2.1832823753356934\n",
      "epoch 25 ------- loss 0.8028724789619446\n",
      "epoch 26 ------- loss 1.203148603439331\n",
      "epoch 27 ------- loss 1.6264749765396118\n",
      "epoch 28 ------- loss 0.7173334360122681\n",
      "epoch 29 ------- loss 0.635388970375061\n",
      "epoch 30 ------- loss 0.857477068901062\n",
      "epoch 31 ------- loss 0.5796117782592773\n",
      "epoch 32 ------- loss 0.5492734909057617\n",
      "epoch 33 ------- loss 0.6440290808677673\n",
      "epoch 34 ------- loss 0.95366370677948\n",
      "epoch 35 ------- loss 1.1971909999847412\n",
      "epoch 36 ------- loss 0.8695749044418335\n",
      "epoch 37 ------- loss 0.7425376176834106\n",
      "epoch 38 ------- loss 0.6367854475975037\n",
      "epoch 39 ------- loss 0.8847687840461731\n",
      "epoch 40 ------- loss 0.9024029970169067\n",
      "epoch 41 ------- loss 0.6350896954536438\n",
      "epoch 42 ------- loss 1.1027796268463135\n",
      "epoch 43 ------- loss 0.31910642981529236\n",
      "epoch 44 ------- loss 0.4493679404258728\n",
      "epoch 45 ------- loss 0.4699394702911377\n",
      "epoch 46 ------- loss 1.0581912994384766\n",
      "epoch 47 ------- loss 1.1931164264678955\n",
      "epoch 48 ------- loss 0.23059864342212677\n",
      "epoch 49 ------- loss 0.327468603849411\n",
      "epoch 50 ------- loss 1.019105315208435\n",
      "epoch 51 ------- loss 0.8972904086112976\n",
      "epoch 52 ------- loss 0.8448378443717957\n",
      "epoch 53 ------- loss 0.743083655834198\n",
      "epoch 54 ------- loss 0.5001832246780396\n",
      "epoch 55 ------- loss 0.8064334988594055\n",
      "epoch 56 ------- loss 1.2884416580200195\n",
      "epoch 57 ------- loss 0.8744184374809265\n",
      "epoch 58 ------- loss 0.8300824165344238\n",
      "epoch 59 ------- loss 0.8047191500663757\n",
      "epoch 60 ------- loss 0.5592023134231567\n",
      "epoch 61 ------- loss 0.8702373504638672\n",
      "epoch 62 ------- loss 0.2227451354265213\n",
      "epoch 63 ------- loss 0.9448744654655457\n",
      "epoch 64 ------- loss 0.8284103274345398\n",
      "epoch 65 ------- loss 0.5763502717018127\n",
      "epoch 66 ------- loss 0.49704718589782715\n",
      "epoch 67 ------- loss 1.0158225297927856\n",
      "epoch 68 ------- loss 0.7427235245704651\n",
      "epoch 69 ------- loss 0.48252472281455994\n",
      "epoch 70 ------- loss 0.7283000946044922\n",
      "epoch 71 ------- loss 0.7193084955215454\n",
      "epoch 72 ------- loss 0.5726190209388733\n",
      "epoch 73 ------- loss 0.9439502954483032\n",
      "epoch 74 ------- loss 0.46018165349960327\n",
      "epoch 75 ------- loss 0.7544617652893066\n",
      "epoch 76 ------- loss 0.43468135595321655\n",
      "epoch 77 ------- loss 0.975902259349823\n",
      "epoch 78 ------- loss 1.322619080543518\n",
      "epoch 79 ------- loss 0.8548885583877563\n",
      "epoch 80 ------- loss 0.25227054953575134\n",
      "epoch 81 ------- loss 0.8126384019851685\n",
      "epoch 82 ------- loss 0.4576438069343567\n",
      "epoch 83 ------- loss 0.4024744927883148\n",
      "epoch 84 ------- loss 0.6696285605430603\n",
      "epoch 85 ------- loss 0.566511332988739\n",
      "epoch 86 ------- loss 0.9460785984992981\n",
      "epoch 87 ------- loss 0.5505486726760864\n",
      "epoch 88 ------- loss 0.764400064945221\n",
      "epoch 89 ------- loss 0.8334671258926392\n",
      "epoch 90 ------- loss 1.6329431533813477\n",
      "epoch 91 ------- loss 0.5947993993759155\n",
      "epoch 92 ------- loss 0.8910938501358032\n",
      "epoch 93 ------- loss 0.35373127460479736\n",
      "epoch 94 ------- loss 0.3850043714046478\n",
      "epoch 95 ------- loss 0.5173110961914062\n",
      "epoch 96 ------- loss 0.6607235670089722\n",
      "epoch 97 ------- loss 0.4840429723262787\n",
      "epoch 98 ------- loss 1.0126186609268188\n",
      "epoch 99 ------- loss 0.688174307346344\n"
     ]
    }
   ],
   "source": [
    "for epoch in range(100):\n",
    "    for xtrain, ytrain in train:\n",
    "        pred = model(xtrain)\n",
    "\n",
    "        loss_r = loss(ytrain, pred.T[0])   \n",
    "        loss_r.backward()\n",
    "        optimizer.step()\n",
    "        optimizer.zero_grad()\n",
    "\n",
    "    print(f'epoch {epoch} ------- loss {loss_r.item()}')"
   ]
  },
  {
   "cell_type": "code",
   "execution_count": null,
   "metadata": {},
   "outputs": [],
   "source": []
  },
  {
   "cell_type": "code",
   "execution_count": null,
   "metadata": {},
   "outputs": [],
   "source": []
  },
  {
   "cell_type": "code",
   "execution_count": null,
   "metadata": {},
   "outputs": [],
   "source": []
  },
  {
   "cell_type": "code",
   "execution_count": null,
   "metadata": {},
   "outputs": [],
   "source": []
  },
  {
   "cell_type": "code",
   "execution_count": null,
   "metadata": {},
   "outputs": [],
   "source": []
  }
 ],
 "metadata": {
  "kernelspec": {
   "display_name": "venvGlobal",
   "language": "python",
   "name": "python3"
  },
  "language_info": {
   "codemirror_mode": {
    "name": "ipython",
    "version": 3
   },
   "file_extension": ".py",
   "mimetype": "text/x-python",
   "name": "python",
   "nbconvert_exporter": "python",
   "pygments_lexer": "ipython3",
   "version": "3.11.9"
  }
 },
 "nbformat": 4,
 "nbformat_minor": 2
}
